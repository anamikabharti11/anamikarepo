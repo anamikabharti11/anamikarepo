{
 "cells": [
  {
   "cell_type": "markdown",
   "id": "e9fd294b-4604-494e-bbde-a7565967a7cd",
   "metadata": {},
   "source": [
    "# Data Science Tools and Ecosystem"
   ]
  },
  {
   "cell_type": "markdown",
   "id": "2c52466e-5c3f-41b7-8572-61532d18a698",
   "metadata": {},
   "source": [
    "In this notebook, Data Science Tools and Ecosystem are summarized."
   ]
  },
  {
   "cell_type": "markdown",
   "id": "29bed49f-d723-4fd3-af45-ba66e930e41d",
   "metadata": {},
   "source": [
    "Some of the popular languages that Data Scientists use are:\n",
    "1. R\n",
    "2. Python\n",
    "3. Scala"
   ]
  },
  {
   "cell_type": "markdown",
   "id": "25d03c76-2312-458b-ab10-ebcd4425aa2c",
   "metadata": {},
   "source": [
    "Some of the commonly used libraries used by Data Scientists include: \n",
    "* TensorFlow \n",
    "* NumPy \n",
    "* SciPy"
   ]
  },
  {
   "cell_type": "markdown",
   "id": "342ff3d2-b267-4a47-80ff-2dfeae5b22dc",
   "metadata": {
    "tags": []
   },
   "source": [
    "| Data Science Tools | \n",
    "| -------------| \n",
    "| Rstudio | \n",
    "| Apache Spark | \n",
    "| Apache Hadoop | "
   ]
  },
  {
   "cell_type": "markdown",
   "id": "b76d4652-aeec-4ba3-a92b-697bc6809695",
   "metadata": {},
   "source": [
    "### Below are a few examples of evaluating arithmetic expressions in Python"
   ]
  },
  {
   "cell_type": "code",
   "execution_count": 3,
   "id": "fb183834-18aa-4703-8741-39e3cc72725e",
   "metadata": {
    "tags": []
   },
   "outputs": [
    {
     "data": {
      "text/plain": [
       "17"
      ]
     },
     "execution_count": 3,
     "metadata": {},
     "output_type": "execute_result"
    }
   ],
   "source": [
    "#This a simple arithmetic expression to mutiply then add integers\n",
    "(3*4)+5"
   ]
  },
  {
   "cell_type": "code",
   "execution_count": 2,
   "id": "716dc3f0-523c-48df-8b11-fcb91df03e53",
   "metadata": {
    "tags": []
   },
   "outputs": [
    {
     "name": "stdout",
     "output_type": "stream",
     "text": [
      "3\n"
     ]
    }
   ],
   "source": [
    "#This will convert 200 minutes to hours by diving by 60\n",
    "hours = 200 // 60\n",
    "print(hours)"
   ]
  },
  {
   "cell_type": "markdown",
   "id": "ba4b4e43-4535-4ba1-85dc-541ae9c2d4e8",
   "metadata": {},
   "source": [
    "**Objectives:**\n",
    "* List popular languages for Data Science\n",
    "* List commonly used libraries used by Data Scientists\n",
    "* Learn Jupyter notebooks\n",
    "* Learn popular Version control tool - GitHub\n",
    "* integrated development environment used by Data Scientists "
   ]
  },
  {
   "cell_type": "markdown",
   "id": "b809545d-7202-49d9-9b67-858f808f3597",
   "metadata": {},
   "source": [
    "## Author: \n",
    "Anamika Bharti"
   ]
  },
  {
   "cell_type": "code",
   "execution_count": null,
   "id": "603cf25d-cd0f-4a71-a69c-7e89d5386410",
   "metadata": {},
   "outputs": [],
   "source": []
  }
 ],
 "metadata": {
  "kernelspec": {
   "display_name": "Python",
   "language": "python",
   "name": "conda-env-python-py"
  },
  "language_info": {
   "codemirror_mode": {
    "name": "ipython",
    "version": 3
   },
   "file_extension": ".py",
   "mimetype": "text/x-python",
   "name": "python",
   "nbconvert_exporter": "python",
   "pygments_lexer": "ipython3",
   "version": "3.7.12"
  }
 },
 "nbformat": 4,
 "nbformat_minor": 5
}
